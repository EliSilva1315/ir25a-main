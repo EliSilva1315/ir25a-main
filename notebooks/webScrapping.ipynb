{
 "cells": [
  {
   "cell_type": "markdown",
   "id": "336ef75c",
   "metadata": {},
   "source": [
    "WEB SCRAPING"
   ]
  },
  {
   "cell_type": "markdown",
   "id": "001d803b",
   "metadata": {},
   "source": [
    "Parte 1: Entender el sitio objetivo\n",
    "- Analizar la estructura de la página web"
   ]
  },
  {
   "cell_type": "code",
   "execution_count": 1,
   "id": "336d571a",
   "metadata": {},
   "outputs": [
    {
     "name": "stdout",
     "output_type": "stream",
     "text": [
      "Requirement already satisfied: beautifulsoup4 in c:\\users\\eli\\appdata\\local\\programs\\python\\python311\\lib\\site-packages (4.13.4)\n",
      "Requirement already satisfied: soupsieve>1.2 in c:\\users\\eli\\appdata\\local\\programs\\python\\python311\\lib\\site-packages (from beautifulsoup4) (2.7)\n",
      "Requirement already satisfied: typing-extensions>=4.0.0 in c:\\users\\eli\\appdata\\local\\programs\\python\\python311\\lib\\site-packages (from beautifulsoup4) (4.14.0)\n",
      "Note: you may need to restart the kernel to use updated packages.\n"
     ]
    },
    {
     "name": "stderr",
     "output_type": "stream",
     "text": [
      "\n",
      "[notice] A new release of pip is available: 24.0 -> 25.1.1\n",
      "[notice] To update, run: python.exe -m pip install --upgrade pip\n"
     ]
    }
   ],
   "source": [
    "%pip install beautifulsoup4\n"
   ]
  },
  {
   "cell_type": "code",
   "execution_count": 2,
   "id": "1e9bfc79",
   "metadata": {},
   "outputs": [],
   "source": [
    "from bs4 import BeautifulSoup\n",
    "\n",
    "file_path = '../data/chicken.html'\n",
    "\n",
    "with open(file_path, 'r', encoding='utf-8') as file:\n",
    "    content = file.read()\n",
    "\n",
    "soup = BeautifulSoup(content, 'html.parser')\n"
   ]
  },
  {
   "cell_type": "code",
   "execution_count": null,
   "id": "44a564a8",
   "metadata": {},
   "outputs": [],
   "source": [
    "\n",
    "tittle= soup.find(\"meta\", {\"property\": \"og:title\"})[\"content\"]"
   ]
  },
  {
   "cell_type": "code",
   "execution_count": 4,
   "id": "50593737",
   "metadata": {},
   "outputs": [
    {
     "data": {
      "text/plain": [
       "'Rotisserie Chicken'"
      ]
     },
     "execution_count": 4,
     "metadata": {},
     "output_type": "execute_result"
    }
   ],
   "source": [
    "tittle"
   ]
  },
  {
   "cell_type": "code",
   "execution_count": 5,
   "id": "506772e6",
   "metadata": {},
   "outputs": [
    {
     "name": "stdout",
     "output_type": "stream",
     "text": [
      "Rating:  4.7\n"
     ]
    }
   ],
   "source": [
    "rating_div = soup.find(\"div\", id=\"mm-recipes-review-bar__rating_1-0\")\n",
    "print('Rating: ',rating_div.text.strip())"
   ]
  },
  {
   "cell_type": "code",
   "execution_count": 6,
   "id": "9fc57044",
   "metadata": {},
   "outputs": [
    {
     "name": "stdout",
     "output_type": "stream",
     "text": [
      "Time:  1 hr 30 mins\n"
     ]
    }
   ],
   "source": [
    "label = soup.find(\"div\", class_=\"mm-recipes-details__label\", string=\"Total Time:\")\n",
    "time_section = label.find_next_sibling(\"div\", class_=\"mm-recipes-details__value\")\n",
    "print('Time: ', time_section.text.strip())"
   ]
  },
  {
   "cell_type": "code",
   "execution_count": 7,
   "id": "2293348c",
   "metadata": {},
   "outputs": [
    {
     "name": "stdout",
     "output_type": "stream",
     "text": [
      "Serving:  6\n"
     ]
    }
   ],
   "source": [
    "label = soup.find(\"div\", class_=\"mm-recipes-details__label\", string=\"Servings:\")\n",
    "serving_section = label.find_next_sibling(\"div\", class_=\"mm-recipes-details__value\")\n",
    "print('Serving: ', serving_section.text.strip())\n"
   ]
  },
  {
   "cell_type": "code",
   "execution_count": 8,
   "id": "edde8665",
   "metadata": {},
   "outputs": [
    {
     "name": "stdout",
     "output_type": "stream",
     "text": [
      "ressume:  This rotisserie chicken recipe is so easy to make with simple seasonings on your grill. Occasional basting with a butter mixture ensures crispy skin and moist meat. Our family loves this! Rotisserie chicken is perfect as the main dish with French fries and coleslaw, or with any number of other sides.\n"
     ]
    }
   ],
   "source": [
    "ressume_class = soup.find(\"p\", class_=\"article-subheading text-utility-300\")\n",
    "print('ressume: ',ressume_class.text.strip())"
   ]
  },
  {
   "cell_type": "code",
   "execution_count": 9,
   "id": "82d7a553",
   "metadata": {},
   "outputs": [
    {
     "name": "stdout",
     "output_type": "stream",
     "text": [
      "Ingredients:  1 (3 pound) whole chicken\n",
      "Ingredients:  1 pinch salt\n",
      "Ingredients:  ¼ cup butter, melted\n",
      "Ingredients:  1 tablespoon salt\n",
      "Ingredients:  1 tablespoon ground paprika\n",
      "Ingredients:  ¼ tablespoon ground black pepper\n"
     ]
    }
   ],
   "source": [
    "ingredient_section = soup.find_all(\"li\", class_=\"mm-recipes-structured-ingredients__list-item\")\n",
    "for ingredient in ingredient_section:\n",
    "    print(\"Ingredients: \",ingredient.text.strip())"
   ]
  },
  {
   "cell_type": "code",
   "execution_count": 10,
   "id": "95311e28",
   "metadata": {},
   "outputs": [
    {
     "name": "stdout",
     "output_type": "stream",
     "text": [
      "Preparation Steps:\n",
      "Step 1: Gather all ingredients. Preheat an outdoor grill for high heat and lightly oil the grate. Dotdash Meredith Food Studios\n",
      "Step 2: Season chicken cavity with a pinch of salt. Tie legs together with kitchen string; then tie wings to the bird. Secure chicken on a rotisserie attachment. Dotdash Meredith Food Studios\n",
      "Step 3: Place rotisserie over the preheated grill and cook for 10 minutes. Dotdash Meredith Food Studios\n",
      "Step 4: Meanwhile, quickly mix together butter, 1 tablespoon of salt, paprika, and pepper. Turn the grill down to medium and baste chicken with butter mixture. Dotdash Meredith Food Studios\n",
      "Step 5: Close the lid and cook over medium heat, basting occasionally, until chicken is cooked through and the internal temperature reaches 180 degrees F (83 degrees C), 1 to 1 1/2 hours. Dotdash Meredith Food Studios\n",
      "Step 6: Remove chicken from the rotisserie and let rest for 10 to 15 minutes before carving. Dotdash Meredith Food Studios\n"
     ]
    }
   ],
   "source": [
    "steps = soup.select(\"div#mm-recipes-steps__content_1-0 li\")\n",
    "\n",
    "print(\"Preparation Steps:\")\n",
    "for i, step in enumerate(steps, 1):\n",
    "    paragraphs = step.find_all(\"p\")\n",
    "    step_text = \" \".join(p.text.strip() for p in paragraphs if p.text.strip())\n",
    "    print(f\"Step {i}: {step_text}\")\n",
    "\n",
    "        "
   ]
  },
  {
   "cell_type": "code",
   "execution_count": 12,
   "id": "3e72dbc4",
   "metadata": {},
   "outputs": [
    {
     "name": "stdout",
     "output_type": "stream",
     "text": [
      "Nutrition Facts Summary:\n",
      "Calories: 357\n",
      "Fat: 25g\n",
      "Carbs: 1g\n",
      "Protein: 31g\n"
     ]
    }
   ],
   "source": [
    "nutrition_table = soup.find(\"table\", class_=\"mm-recipes-nutrition-facts-summary__table\")\n",
    "\n",
    "print(\"Nutrition Facts Summary:\")\n",
    "if nutrition_table:\n",
    "    rows = nutrition_table.find_all(\"tr\")\n",
    "    for row in rows:\n",
    "        cols = row.find_all(\"td\")\n",
    "        if len(cols) >= 2:\n",
    "            value = cols[0].text.strip()\n",
    "            label = cols[1].text.strip()\n",
    "            print(f\"{label}: {value}\")\n",
    "else:\n",
    "    print(\"No se encontró la tabla nutricional.\")"
   ]
  },
  {
   "cell_type": "code",
   "execution_count": 17,
   "id": "43fd95be",
   "metadata": {},
   "outputs": [
    {
     "name": "stdout",
     "output_type": "stream",
     "text": [
      "Imagen principal: https://www.allrecipes.com/thmb/ed37Lgu-NBfctOz7BNGWXLcfEo8=/1500x0/filters:no_upscale():max_bytes(150000):strip_icc():format(webp)/Screen-Shot-2022-06-08-at-11.14.27-AM-1ab22c6bdf894d82bbb9650e7da77e82.png\n"
     ]
    }
   ],
   "source": [
    "image = soup.find(\"img\", id=\"mntl-sc-block-image_1-0\")\n",
    "\n",
    "if image:\n",
    "    img_url = image.get(\"data-src\") or image.get(\"src\")\n",
    "    print(\"Imagen principal:\", img_url)"
   ]
  },
  {
   "cell_type": "code",
   "execution_count": 13,
   "id": "986441b0",
   "metadata": {},
   "outputs": [
    {
     "name": "stdout",
     "output_type": "stream",
     "text": [
      "Linked Recipes:\n",
      "https://www.allrecipes.com/recipe/93168/rotisserie-chicken/#main\n",
      "https://www.allrecipes.com/\n",
      "https://www.allrecipes.com/recipes/17562/dinner/\n",
      "https://www.allrecipes.com/recipes/17057/everyday-cooking/more-meal-ideas/5-ingredients/main-dishes/\n",
      "https://www.allrecipes.com/recipes/15436/everyday-cooking/one-pot-meals/\n",
      "https://www.allrecipes.com/recipes/1947/everyday-cooking/quick-and-easy/\n",
      "https://www.allrecipes.com/recipes/455/everyday-cooking/more-meal-ideas/30-minute-meals/\n",
      "https://www.allrecipes.com/recipes/17889/everyday-cooking/family-friendly/family-dinners/\n",
      "https://www.allrecipes.com/recipes/94/soups-stews-and-chili/\n",
      "https://www.allrecipes.com/recipes/16099/everyday-cooking/comfort-food/\n",
      "https://www.allrecipes.com/recipes/80/main-dish/\n",
      "https://www.allrecipes.com/recipes/22992/everyday-cooking/sheet-pan-dinners/\n",
      "https://www.allrecipes.com/recipes/17562/dinner/\n",
      "https://www.allrecipes.com/recipes-a-z-6735880\n",
      "https://www.allrecipes.com/recipes/78/breakfast-and-brunch/\n",
      "https://www.allrecipes.com/recipes/17561/lunch/\n",
      "https://www.allrecipes.com/recipes/84/healthy-recipes/\n",
      "https://www.allrecipes.com/recipes/76/appetizers-and-snacks/\n",
      "https://www.allrecipes.com/recipes/96/salad/\n",
      "https://www.allrecipes.com/recipes/81/side-dish/\n",
      "https://www.allrecipes.com/recipes/16369/soups-stews-and-chili/soup/\n",
      "https://www.allrecipes.com/recipes/156/bread/\n",
      "https://www.allrecipes.com/recipes/77/drinks/\n",
      "https://www.allrecipes.com/recipes/79/desserts/\n",
      "https://www.allrecipes.com/recipes-a-z-6735880\n",
      "https://www.allrecipes.com/ingredients-a-z-6740416\n",
      "https://www.allrecipes.com/recipes/201/meat-and-poultry/chicken/\n",
      "https://www.allrecipes.com/recipes/200/meat-and-poultry/beef/\n",
      "https://www.allrecipes.com/recipes/205/meat-and-poultry/pork/\n",
      "https://www.allrecipes.com/recipes/93/seafood/\n",
      "https://www.allrecipes.com/recipes/95/pasta-and-noodles/\n",
      "https://www.allrecipes.com/recipes/1058/fruits-and-vegetables/fruits/\n",
      "https://www.allrecipes.com/recipes/1059/fruits-and-vegetables/vegetables/\n",
      "https://www.allrecipes.com/ingredients-a-z-6740416\n",
      "https://www.allrecipes.com/recipes/85/holidays-and-events/\n",
      "https://www.allrecipes.com/recipes/630/everyday-cooking/seasonal/summer/\n",
      "https://www.allrecipes.com/entertaining/\n",
      "https://www.allrecipes.com/recipes/11985/everyday-cooking/family-friendly/back-to-school/\n",
      "https://www.allrecipes.com/recipes/85/holidays-and-events/\n",
      "https://www.allrecipes.com/cuisine-a-z-6740455\n",
      "https://www.allrecipes.com/recipes/728/world-cuisine/latin-american/mexican/\n",
      "https://www.allrecipes.com/recipes/723/world-cuisine/european/italian/\n",
      "https://www.allrecipes.com/recipes/695/world-cuisine/asian/chinese/\n",
      "https://www.allrecipes.com/recipes/233/world-cuisine/asian/indian/\n",
      "https://www.allrecipes.com/recipes/722/world-cuisine/european/german/\n",
      "https://www.allrecipes.com/recipes/731/world-cuisine/european/greek/\n",
      "https://www.allrecipes.com/recipes/696/world-cuisine/asian/filipino/\n",
      "https://www.allrecipes.com/recipes/699/world-cuisine/asian/japanese/\n",
      "https://www.allrecipes.com/cuisine-a-z-6740455\n",
      "https://www.allrecipes.com/kitchen-tips/\n",
      "https://www.allrecipes.com/recipes/22882/everyday-cooking/instant-pot/\n",
      "https://www.allrecipes.com/recipes/23070/everyday-cooking/cookware-and-equipment/air-fryer/\n",
      "https://www.allrecipes.com/recipes/253/everyday-cooking/slow-cooker/\n",
      "https://www.allrecipes.com/food-news-trends/product-reviews/\n",
      "https://www.allrecipes.com/recipes/88/bbq-grilling/\n",
      "https://www.allrecipes.com/recipes/17583/everyday-cooking/cookware-and-equipment/\n",
      "https://www.allrecipes.com/kitchen-tips/all-about-ingredients/substitutions/\n",
      "https://www.allrecipes.com/kitchen-tips/\n",
      "https://www.allrecipes.com/food-news-trends/\n",
      "https://www.allrecipes.com/food-news-trends/celebrity-entertainment/\n",
      "https://www.allrecipes.com/fast-food-8672832\n",
      "https://www.allrecipes.com/grocery-8672835\n",
      "https://www.allrecipes.com/food-news-trends/recalls/\n",
      "https://www.allrecipes.com/food-news-trends/trends/\n",
      "https://www.allrecipes.com/food-news-trends/\n",
      "https://www.allrecipes.com/recipes/1642/everyday-cooking/\n",
      "https://www.allrecipes.com/kitchen-tips/how-to/dinner-fix/\n",
      "https://www.allrecipes.com/kitchen-tips/how-to/sweet-spot/\n",
      "https://www.allrecipes.com/kitchen-tips/in-the-kitchen/\n",
      "https://www.allrecipes.com/about-us-6648102\n",
      "https://www.allrecipes.com/allstars-8661275\n",
      "https://www.allrecipes.com/article/how-to-submit-recipes/\n",
      "https://www.magazines.com/allrecipes-magazine.html?utm_source=allrecipes.com&utm_medium=owned&utm_campaign=i111arr1w2661\n",
      "https://www.allrecipes.com/authentication/login?regSource=3675&relativeRedirectUrl=%2Frecipe%2F93168%2Frotisserie-chicken%2F\n",
      "https://www.allrecipes.com/account/add-recipe\n",
      "https://www.myrecipes.com/favorites\n",
      "https://www.allrecipes.com/account/settings\n",
      "https://www.allrecipes.com/authentication/logout?relativeRedirectUrl=%2Frecipe%2F93168%2Frotisserie-chicken%2F\n",
      "https://www.magazines.com/allrecipes-magazine.html?utm_source=allrecipes.com&utm_medium=owned&utm_campaign=i111arr1w2661\n",
      "https://www.magazines.com/allrecipes-magazine.html\n",
      "https://www.allrecipes.com/recipe/93168/rotisserie-chicken/#\n",
      "https://www.allrecipes.com/sweepstakes\n",
      "https://www.allrecipes.com/\n",
      "https://www.allrecipes.com/recipes/17562/dinner/\n",
      "https://www.allrecipes.com/recipes/17057/everyday-cooking/more-meal-ideas/5-ingredients/main-dishes/\n",
      "https://www.allrecipes.com/recipes/15436/everyday-cooking/one-pot-meals/\n",
      "https://www.allrecipes.com/recipes/1947/everyday-cooking/quick-and-easy/\n",
      "https://www.allrecipes.com/recipes/455/everyday-cooking/more-meal-ideas/30-minute-meals/\n",
      "https://www.allrecipes.com/recipes/17889/everyday-cooking/family-friendly/family-dinners/\n",
      "https://www.allrecipes.com/recipes/94/soups-stews-and-chili/\n",
      "https://www.allrecipes.com/recipes/16099/everyday-cooking/comfort-food/\n",
      "https://www.allrecipes.com/recipes/80/main-dish/\n",
      "https://www.allrecipes.com/recipes/22992/everyday-cooking/sheet-pan-dinners/\n",
      "https://www.allrecipes.com/recipes/17562/dinner/\n",
      "https://www.allrecipes.com/recipes-a-z-6735880\n",
      "https://www.allrecipes.com/recipes/78/breakfast-and-brunch/\n",
      "https://www.allrecipes.com/recipes/17561/lunch/\n",
      "https://www.allrecipes.com/recipes/84/healthy-recipes/\n",
      "https://www.allrecipes.com/recipes/76/appetizers-and-snacks/\n",
      "https://www.allrecipes.com/recipes/96/salad/\n",
      "https://www.allrecipes.com/recipes/81/side-dish/\n",
      "https://www.allrecipes.com/recipes/16369/soups-stews-and-chili/soup/\n",
      "https://www.allrecipes.com/recipes/156/bread/\n",
      "https://www.allrecipes.com/recipes/77/drinks/\n",
      "https://www.allrecipes.com/recipes/79/desserts/\n",
      "https://www.allrecipes.com/recipes-a-z-6735880\n",
      "https://www.allrecipes.com/ingredients-a-z-6740416\n",
      "https://www.allrecipes.com/recipes/201/meat-and-poultry/chicken/\n",
      "https://www.allrecipes.com/recipes/200/meat-and-poultry/beef/\n",
      "https://www.allrecipes.com/recipes/205/meat-and-poultry/pork/\n",
      "https://www.allrecipes.com/recipes/93/seafood/\n",
      "https://www.allrecipes.com/recipes/95/pasta-and-noodles/\n",
      "https://www.allrecipes.com/recipes/1058/fruits-and-vegetables/fruits/\n",
      "https://www.allrecipes.com/recipes/1059/fruits-and-vegetables/vegetables/\n",
      "https://www.allrecipes.com/ingredients-a-z-6740416\n",
      "https://www.allrecipes.com/recipes/85/holidays-and-events/\n",
      "https://www.allrecipes.com/recipes/630/everyday-cooking/seasonal/summer/\n",
      "https://www.allrecipes.com/entertaining/\n",
      "https://www.allrecipes.com/recipes/11985/everyday-cooking/family-friendly/back-to-school/\n",
      "https://www.allrecipes.com/recipes/85/holidays-and-events/\n",
      "https://www.allrecipes.com/cuisine-a-z-6740455\n",
      "https://www.allrecipes.com/recipes/728/world-cuisine/latin-american/mexican/\n",
      "https://www.allrecipes.com/recipes/723/world-cuisine/european/italian/\n",
      "https://www.allrecipes.com/recipes/695/world-cuisine/asian/chinese/\n",
      "https://www.allrecipes.com/recipes/233/world-cuisine/asian/indian/\n",
      "https://www.allrecipes.com/recipes/722/world-cuisine/european/german/\n",
      "https://www.allrecipes.com/recipes/731/world-cuisine/european/greek/\n",
      "https://www.allrecipes.com/recipes/696/world-cuisine/asian/filipino/\n",
      "https://www.allrecipes.com/recipes/699/world-cuisine/asian/japanese/\n",
      "https://www.allrecipes.com/cuisine-a-z-6740455\n",
      "https://www.allrecipes.com/kitchen-tips/\n",
      "https://www.allrecipes.com/recipes/22882/everyday-cooking/instant-pot/\n",
      "https://www.allrecipes.com/recipes/23070/everyday-cooking/cookware-and-equipment/air-fryer/\n",
      "https://www.allrecipes.com/recipes/253/everyday-cooking/slow-cooker/\n",
      "https://www.allrecipes.com/food-news-trends/product-reviews/\n",
      "https://www.allrecipes.com/recipes/88/bbq-grilling/\n",
      "https://www.allrecipes.com/recipes/17583/everyday-cooking/cookware-and-equipment/\n",
      "https://www.allrecipes.com/kitchen-tips/all-about-ingredients/substitutions/\n",
      "https://www.allrecipes.com/kitchen-tips/\n",
      "https://www.allrecipes.com/food-news-trends/\n",
      "https://www.allrecipes.com/food-news-trends/celebrity-entertainment/\n",
      "https://www.allrecipes.com/fast-food-8672832\n",
      "https://www.allrecipes.com/grocery-8672835\n",
      "https://www.allrecipes.com/food-news-trends/recalls/\n",
      "https://www.allrecipes.com/food-news-trends/trends/\n",
      "https://www.allrecipes.com/food-news-trends/\n",
      "https://www.allrecipes.com/recipes/1642/everyday-cooking/\n",
      "https://www.allrecipes.com/kitchen-tips/how-to/dinner-fix/\n",
      "https://www.allrecipes.com/kitchen-tips/how-to/sweet-spot/\n",
      "https://www.allrecipes.com/kitchen-tips/in-the-kitchen/\n",
      "https://www.allrecipes.com/about-us-6648102\n",
      "https://www.allrecipes.com/about-us-6648102\n",
      "https://www.allrecipes.com/allstars-8661275\n",
      "https://www.allrecipes.com/article/how-to-submit-recipes/\n",
      "https://www.magazines.com/allrecipes-magazine.html?utm_source=allrecipes.com&utm_medium=owned&utm_campaign=i111arr1w2661\n",
      "https://www.allrecipes.com/authentication/login?regSource=3675&relativeRedirectUrl=%2Frecipe%2F93168%2Frotisserie-chicken%2F\n",
      "https://www.allrecipes.com/account/add-recipe\n",
      "https://www.myrecipes.com/favorites\n",
      "https://www.allrecipes.com/account/settings\n",
      "https://www.allrecipes.com/authentication/logout?relativeRedirectUrl=%2Frecipe%2F93168%2Frotisserie-chicken%2F\n",
      "https://www.magazines.com/allrecipes-magazine.html?utm_source=allrecipes.com&utm_medium=owned&utm_campaign=i111arr1w2661\n",
      "https://www.magazines.com/allrecipes-magazine.html\n",
      "https://www.allrecipes.com/recipe/93168/rotisserie-chicken/#\n",
      "https://www.allrecipes.com/sweepstakes\n",
      "https://www.facebook.com/allrecipes\n",
      "https://www.instagram.com/allrecipes/\n",
      "https://www.pinterest.com/allrecipes/\n",
      "https://www.tiktok.com/@allrecipes\n",
      "https://www.youtube.com/user/allrecipes/videos\n",
      "https://flipboard.com/@Allrecipes\n",
      "https://www.myrecipes.com/\n",
      "https://www.allrecipes.com/recipes/\n",
      "https://www.allrecipes.com/recipes/92/meat-and-poultry/\n",
      "https://www.allrecipes.com/recipes/201/meat-and-poultry/chicken/\n",
      "https://www.allrecipes.com/recipes/662/meat-and-poultry/chicken/whole-chicken/\n",
      "https://www.allrecipes.com/recipe/93168/rotisserie-chicken/#\n",
      "https://www.allrecipes.com/recipe/93168/rotisserie-chicken/#\n",
      "https://www.allrecipes.com/recipe/93168/rotisserie-chicken/#\n",
      "https://www.allrecipes.com/recipe/93168/rotisserie-chicken/#\n",
      "https://www.allrecipes.com/gallery/ways-to-use-rotisserie-chicken/\n",
      "https://www.allrecipes.com/gallery/30-minute-recipes-with-rotisserie-chicken/\n",
      "https://www.allrecipes.com/gallery/no-cook-rotisserie-chicken-recipes/\n",
      "https://www.allrecipes.com/cook/1227418\n",
      "https://www.allrecipes.com/cook/17268918\n",
      "https://www.allrecipes.com/cook/1170440\n",
      "https://www.allrecipes.com/author/corey-williams/\n",
      "https://www.allrecipes.com/about-us-6648102#toc-community-guidelines\n",
      "https://www.allrecipes.com/cook/mrdon\n",
      "https://www.allrecipes.com/recipe/93168/rotisserie-chicken/#\n",
      "https://www.allrecipes.com/cook/6086578\n",
      "https://www.allrecipes.com/recipe/93168/rotisserie-chicken/#\n",
      "https://www.allrecipes.com/cook/13220296\n",
      "https://www.allrecipes.com/recipe/93168/rotisserie-chicken/#\n",
      "https://www.allrecipes.com/cook/4627829\n",
      "https://www.allrecipes.com/recipe/93168/rotisserie-chicken/#\n",
      "https://www.allrecipes.com/recipe/93168/rotisserie-chicken/#\n",
      "https://www.allrecipes.com/cook/23130251\n",
      "https://www.allrecipes.com/recipe/93168/rotisserie-chicken/#\n",
      "https://www.allrecipes.com/cook/719729\n",
      "https://www.allrecipes.com/recipe/93168/rotisserie-chicken/#\n",
      "https://www.allrecipes.com/cook/3844670\n",
      "https://www.allrecipes.com/recipe/93168/rotisserie-chicken/#\n",
      "https://www.allrecipes.com/cook/413609\n",
      "https://www.allrecipes.com/recipe/93168/rotisserie-chicken/#\n",
      "https://www.allrecipes.com/cook/17425291\n",
      "https://www.allrecipes.com/recipe/93168/rotisserie-chicken/#\n",
      "https://www.allrecipes.com/cook/16849068\n",
      "https://www.allrecipes.com/recipe/93168/rotisserie-chicken/#\n",
      "https://www.allrecipes.com/cook/205a675896b92bbf\n",
      "https://www.allrecipes.com/recipe/93168/rotisserie-chicken/#\n",
      "https://www.allrecipes.com/cook/22247109\n",
      "https://www.allrecipes.com/recipe/93168/rotisserie-chicken/#\n",
      "https://www.allrecipes.com/cook/28590127\n",
      "https://www.allrecipes.com/recipe/93168/rotisserie-chicken/#\n",
      "https://www.allrecipes.com/cook/23270738\n",
      "https://www.allrecipes.com/recipe/93168/rotisserie-chicken/#\n",
      "https://www.allrecipes.com/cook/17248820\n",
      "https://www.allrecipes.com/recipe/93168/rotisserie-chicken/#\n",
      "https://www.allrecipes.com/recipe/93168/rotisserie-chicken/#\n",
      "https://www.allrecipes.com/cook/e21d169c67a93edb\n",
      "https://www.allrecipes.com/recipe/93168/rotisserie-chicken/#\n",
      "https://www.allrecipes.com/cook/15677343\n",
      "https://www.allrecipes.com/recipe/93168/rotisserie-chicken/#\n",
      "https://www.allrecipes.com/cook/6283987\n",
      "https://www.allrecipes.com/recipe/93168/rotisserie-chicken/#\n",
      "https://www.allrecipes.com/cook/28884860\n",
      "https://www.allrecipes.com/cook/7383226\n",
      "https://www.allrecipes.com/cook/26904164\n",
      "https://www.allrecipes.com/cook/27213007\n",
      "https://www.allrecipes.com/cook/18164047\n",
      "https://www.allrecipes.com/cook/2380801\n",
      "https://www.allrecipes.com/cook/17007986\n",
      "https://www.allrecipes.com/cook/16849068\n",
      "https://www.allrecipes.com/cook/25840907\n",
      "https://www.allrecipes.com/recipe/93168/rotisserie-chicken/#\n",
      "https://www.allrecipes.com/recipe/93168/rotisserie-chicken/#\n",
      "https://www.allrecipes.com/recipe/93168/rotisserie-chicken/#\n",
      "https://www.allrecipes.com/recipe/93168/rotisserie-chicken/#\n",
      "https://www.allrecipes.com/recipe/93168/rotisserie-chicken/#\n",
      "https://www.allrecipes.com/recipe/238575/cilantro-lime-grilled-chicken/\n",
      "https://www.allrecipes.com/recipe/275062/buttermilk-barbecue-chicken/\n",
      "https://www.allrecipes.com/recipe/274724/grilled-spatchcocked-chicken/\n",
      "https://www.allrecipes.com/recipe/14531/beer-butt-chicken/\n",
      "https://www.allrecipes.com/recipe/221093/good-frickin-paprika-chicken/\n",
      "https://www.allrecipes.com/recipe/264278/miso-honey-chicken/\n",
      "https://www.allrecipes.com/recipe/258659/rosemary-buttermilk-chicken/\n",
      "https://www.allrecipes.com/recipe/222936/smoked-beer-butt-chicken/\n",
      "https://www.allrecipes.com/recipe/228070/the-best-beer-can-chicken-ever/\n",
      "https://www.allrecipes.com/recipe/214619/bbq-beer-can-chicken/\n",
      "https://www.allrecipes.com/recipe/19944/drunk-chicken/\n",
      "https://www.allrecipes.com/recipe/275044/grilled-chicken-under-a-brick/\n",
      "https://www.allrecipes.com/recipe/281255/smoked-whole-chicken/\n",
      "https://www.allrecipes.com/recipe/34957/easy-barbeque-chicken/\n",
      "https://www.allrecipes.com/recipe/8998/darn-good-chicken/\n",
      "https://www.allrecipes.com/recipe/214618/beer-can-chicken/\n",
      "https://www.allrecipes.com/\n",
      "https://www.allrecipes.com/recipe/93168/rotisserie-chicken/#\n",
      "https://www.facebook.com/allrecipes\n",
      "https://www.instagram.com/allrecipes/\n",
      "https://www.pinterest.com/allrecipes/\n",
      "https://www.tiktok.com/@allrecipes\n",
      "https://www.youtube.com/user/allrecipes/videos\n",
      "https://flipboard.com/@Allrecipes\n",
      "https://www.allrecipes.com/recipes/17562/dinner/\n",
      "https://www.allrecipes.com/recipes/\n",
      "https://www.allrecipes.com/recipes/17567/ingredients/\n",
      "https://www.allrecipes.com/recipes/85/holidays-and-events/\n",
      "https://www.allrecipes.com/recipes/86/world-cuisine/\n",
      "https://www.allrecipes.com/kitchen-tips/\n",
      "https://www.allrecipes.com/food-news-trends/\n",
      "https://www.allrecipes.com/recipes/1642/everyday-cooking/\n",
      "https://www.allrecipes.com/about-us-6648102\n",
      "https://www.allrecipes.com/about-us-6648102#toc-editorial-guidelines\n",
      "https://www.allrecipes.com/about-us-6648102#toc-product-reviews\n",
      "https://www.dotdashmeredith.com/brands/food-drink/allrecipes\n",
      "https://www.allrecipes.com/about-us-6648102#toc-contact-us\n",
      "https://www.allrecipes.com/authentication/login?regSource=vpgyqb&isMyrecipes=true&relativeRedirectUrl=%2Frecipe%2F93168%2Frotisserie-chicken%2F\n",
      "https://www.allrecipes.com/authentication/login?regSource=vpgyqb&isMyrecipes=true&relativeRedirectUrl=%2Frecipe%2F93168%2Frotisserie-chicken%2F\n",
      "https://www.myrecipes.com/\n"
     ]
    }
   ],
   "source": [
    "recipe_links = soup. find_all(\"a\", href=True)\n",
    "\n",
    "recipe_urls = []\n",
    "for link in recipe_links:\n",
    "    href = link[ 'href']\n",
    "    if \"recipe\" in href:\n",
    "        recipe_urls.append(href)\n",
    "\n",
    "print(\"Linked Recipes:\")\n",
    "for url in recipe_urls:\n",
    "    print(url)"
   ]
  },
  {
   "cell_type": "code",
   "execution_count": 28,
   "id": "b94bfcf9",
   "metadata": {},
   "outputs": [
    {
     "name": "stdout",
     "output_type": "stream",
     "text": [
      "✅ Receta procesada: Rotisserie Chicken\n",
      "✅ Receta procesada: Rotisserie Chicken\n",
      "✅ Receta procesada: Cilantro-Lime Grilled Chicken\n",
      "✅ Receta procesada: Buttermilk Barbecue Chicken\n",
      "✅ Receta procesada: Grilled Spatchcocked Chicken\n",
      "✅ Receta procesada: Beer Butt Chicken\n",
      "✅ Receta procesada: Good Frickin' Paprika Chicken\n",
      "✅ Receta procesada: Miso Honey Chicken\n",
      "✅ Receta procesada: Rosemary Buttermilk Chicken\n",
      "✅ Receta procesada: Smoked Beer Butt Chicken\n",
      "✅ Receta procesada: The Best Beer Can Chicken Ever\n",
      "✅ Receta procesada: Best Beer Can Chicken\n",
      "✅ Receta procesada: Drunk Chicken\n",
      "✅ Receta procesada: Grilled Chicken Under a Brick\n",
      "✅ Receta procesada: Smoked Whole Chicken\n",
      "✅ Receta procesada: Easy Barbeque Chicken\n",
      "✅ Receta procesada: Darn Good Chicken\n",
      "✅ Receta procesada: Beer Can Chicken\n",
      "\n",
      "📝 Datos de 18 recetas guardados en '../data/recipes_data.json'\n"
     ]
    }
   ],
   "source": [
    "import json\n",
    "import requests\n",
    "import time\n",
    "import re\n",
    "from bs4 import BeautifulSoup\n",
    "\n",
    "# --- Cabeceras simulando navegador ---\n",
    "headers = {\n",
    "    \"User-Agent\": \"Mozilla/5.0 (Windows NT 10.0; Win64; x64) AppleWebKit/537.36 (KHTML, like Gecko) Chrome/115.0.0.0 Safari/537.36\",\n",
    "    \"Accept-Language\": \"en-US,en;q=0.9\"\n",
    "}\n",
    "\n",
    "# --- Recolectar solo URLs válidas de receta ---\n",
    "recipe_urls = []\n",
    "pattern = re.compile(r\"^https://www\\.allrecipes\\.com/(recipe)/\\d+/\")\n",
    "\n",
    "for link in recipe_links:\n",
    "    href = link.get('href')\n",
    "    if href and pattern.match(href) and href not in recipe_urls:\n",
    "        recipe_urls.append(href)\n",
    "\n",
    "\n",
    "\n",
    "# --- Diccionario para almacenar los datos de todas las recetas ---\n",
    "all_recipes = {}\n",
    "\n",
    "# --- Iterar sobre cada URL de receta ---\n",
    "for url in recipe_urls:\n",
    "    try:\n",
    "        response = requests.get(url, headers=headers, timeout=10)\n",
    "        response.raise_for_status()\n",
    "        soup = BeautifulSoup(response.content, 'html.parser')\n",
    "\n",
    "        # --- Título ---\n",
    "        title_tag = soup.find(\"meta\", {\"property\": \"og:title\"})\n",
    "        title = title_tag[\"content\"] if title_tag else None\n",
    "\n",
    "        # --- Rating ---\n",
    "        rating_div = soup.find(\"div\", id=\"mm-recipes-review-bar__rating_1-0\")\n",
    "        rating = rating_div.text.strip() if rating_div else None\n",
    "\n",
    "        # --- Tiempo total ---\n",
    "        label_time = soup.find(\"div\", class_=\"mm-recipes-details__label\", string=\"Total Time:\")\n",
    "        total_time = label_time.find_next_sibling(\"div\", class_=\"mm-recipes-details__value\").text.strip() if label_time else None\n",
    "\n",
    "        # --- Porciones ---\n",
    "        label_servings = soup.find(\"div\", class_=\"mm-recipes-details__label\", string=\"Servings:\")\n",
    "        servings = label_servings.find_next_sibling(\"div\", class_=\"mm-recipes-details__value\").text.strip() if label_servings else None\n",
    "\n",
    "        # --- Resumen ---\n",
    "        resume_tag = soup.find(\"p\", class_=\"article-subheading text-utility-300\")\n",
    "        resume = resume_tag.text.strip() if resume_tag else None\n",
    "\n",
    "        # --- Ingredientes ---\n",
    "        ingredients = [i.text.strip() for i in soup.find_all(\"li\", class_=\"mm-recipes-structured-ingredients__list-item\")]\n",
    "\n",
    "        # --- Pasos ---\n",
    "        steps = []\n",
    "        step_tags = soup.select(\"div#mm-recipes-steps__content_1-0 li\")\n",
    "        for step in step_tags:\n",
    "            paragraphs = step.find_all(\"p\")\n",
    "            step_text = \" \".join(p.text.strip() for p in paragraphs if p.text.strip())\n",
    "            if step_text:\n",
    "                steps.append(step_text)\n",
    "\n",
    "        # --- Información nutricional ---\n",
    "        nutrition_table = soup.find(\"table\", class_=\"mm-recipes-nutrition-facts-summary__table\")\n",
    "        nutrition_facts = {\n",
    "            row.find_all(\"td\")[1].text.strip(): row.find_all(\"td\")[0].text.strip()\n",
    "            for row in nutrition_table.find_all(\"tr\")\n",
    "            if len(row.find_all(\"td\")) >= 2\n",
    "        } if nutrition_table else {}\n",
    "\n",
    "        # --- Imagen principal ---\n",
    "        image = soup.find(\"img\", id=\"mntl-sc-block-image_1-0\")\n",
    "        img_url = image.get(\"data-src\") or image.get(\"src\") if image else None\n",
    "\n",
    "        # --- Guardar receta ---\n",
    "        all_recipes[url] = {\n",
    "            \"title\": title,\n",
    "            \"rating\": rating,\n",
    "            \"total_time\": total_time,\n",
    "            \"servings\": servings,\n",
    "            \"resume\": resume,\n",
    "            \"ingredients\": ingredients,\n",
    "            \"steps\": steps,\n",
    "            \"nutrition_facts\": nutrition_facts,\n",
    "            \"image_url\": img_url\n",
    "        }\n",
    "\n",
    "        print(f\"✅ Receta procesada: {title}\")\n",
    "\n",
    "        time.sleep(1.5)  # Pausa entre requests para evitar bloqueo\n",
    "\n",
    "    except Exception as e:\n",
    "        print(f\"❌ Error al procesar {url}: {e}\")\n",
    "\n",
    "# --- Guardar en archivo JSON ---\n",
    "output_path = '../data/recipes_data.json'\n",
    "\n",
    "with open(output_path, 'w', encoding='utf-8') as json_file:\n",
    "    json.dump(all_recipes, json_file, ensure_ascii=False, indent=4)\n",
    "\n",
    "print(f\"\\n📝 Datos de {len(all_recipes)} recetas guardados en '{output_path}'\")\n"
   ]
  }
 ],
 "metadata": {
  "kernelspec": {
   "display_name": "Python 3",
   "language": "python",
   "name": "python3"
  },
  "language_info": {
   "codemirror_mode": {
    "name": "ipython",
    "version": 3
   },
   "file_extension": ".py",
   "mimetype": "text/x-python",
   "name": "python",
   "nbconvert_exporter": "python",
   "pygments_lexer": "ipython3",
   "version": "3.11.8"
  }
 },
 "nbformat": 4,
 "nbformat_minor": 5
}

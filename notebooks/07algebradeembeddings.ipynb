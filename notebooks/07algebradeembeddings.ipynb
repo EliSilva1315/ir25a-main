{
 "cells": [
  {
   "cell_type": "markdown",
   "id": "168ae391",
   "metadata": {},
   "source": [
    "07 ALGEBRA DE EMBEDDINGS"
   ]
  },
  {
   "cell_type": "code",
   "execution_count": 1,
   "id": "adccc313",
   "metadata": {},
   "outputs": [
    {
     "name": "stdout",
     "output_type": "stream",
     "text": [
      "Requirement already satisfied: numpy in c:\\users\\eli\\appdata\\local\\programs\\python\\python311\\lib\\site-packages (1.26.4)\n",
      "Collecting numpy\n",
      "  Downloading numpy-2.3.1-cp311-cp311-win_amd64.whl.metadata (60 kB)\n",
      "     ---------------------------------------- 0.0/60.9 kB ? eta -:--:--\n",
      "     ------ --------------------------------- 10.2/60.9 kB ? eta -:--:--\n",
      "     ------------ ------------------------- 20.5/60.9 kB 217.9 kB/s eta 0:00:01\n",
      "     ------------------------- ------------ 41.0/60.9 kB 245.8 kB/s eta 0:00:01\n",
      "     ------------------------------- ------ 51.2/60.9 kB 290.5 kB/s eta 0:00:01\n",
      "     -------------------------------------- 60.9/60.9 kB 294.4 kB/s eta 0:00:00\n",
      "Downloading numpy-2.3.1-cp311-cp311-win_amd64.whl (13.0 MB)\n",
      "   ---------------------------------------- 0.0/13.0 MB ? eta -:--:--\n",
      "   ---------------------------------------- 0.0/13.0 MB 653.6 kB/s eta 0:00:20\n",
      "   ---------------------------------------- 0.2/13.0 MB 1.5 MB/s eta 0:00:09\n",
      "   - -------------------------------------- 0.6/13.0 MB 4.0 MB/s eta 0:00:04\n",
      "   --- ------------------------------------ 1.2/13.0 MB 6.5 MB/s eta 0:00:02\n",
      "   ----- ---------------------------------- 1.9/13.0 MB 8.6 MB/s eta 0:00:02\n",
      "   -------- ------------------------------- 2.7/13.0 MB 10.2 MB/s eta 0:00:02\n",
      "   ---------- ----------------------------- 3.5/13.0 MB 11.2 MB/s eta 0:00:01\n",
      "   ------------- -------------------------- 4.4/13.0 MB 12.7 MB/s eta 0:00:01\n",
      "   ---------------- ----------------------- 5.3/13.0 MB 12.5 MB/s eta 0:00:01\n",
      "   ---------------- ----------------------- 5.4/13.0 MB 12.8 MB/s eta 0:00:01\n",
      "   ---------------- ----------------------- 5.5/13.0 MB 10.9 MB/s eta 0:00:01\n",
      "   ----------------------- ---------------- 7.5/13.0 MB 14.5 MB/s eta 0:00:01\n",
      "   -------------------------- ------------- 8.6/13.0 MB 14.5 MB/s eta 0:00:01\n",
      "   ----------------------------- ---------- 9.7/13.0 MB 15.1 MB/s eta 0:00:01\n",
      "   -------------------------------- ------- 10.7/13.0 MB 19.2 MB/s eta 0:00:01\n",
      "   -------------------------------- ------- 10.7/13.0 MB 18.7 MB/s eta 0:00:01\n",
      "   ----------------------------------- ---- 11.6/13.0 MB 18.7 MB/s eta 0:00:01\n",
      "   -------------------------------------- - 12.5/13.0 MB 18.7 MB/s eta 0:00:01\n",
      "   ---------------------------------------- 13.0/13.0 MB 18.2 MB/s eta 0:00:00\n",
      "Installing collected packages: numpy\n",
      "  Attempting uninstall: numpy\n",
      "    Found existing installation: numpy 1.26.4\n",
      "    Uninstalling numpy-1.26.4:\n",
      "      Successfully uninstalled numpy-1.26.4\n",
      "Successfully installed numpy-2.3.1\n",
      "Note: you may need to restart the kernel to use updated packages.\n"
     ]
    },
    {
     "name": "stderr",
     "output_type": "stream",
     "text": [
      "ERROR: pip's dependency resolver does not currently take into account all the packages that are installed. This behaviour is the source of the following dependency conflicts.\n",
      "gensim 4.3.3 requires numpy<2.0,>=1.18.5, but you have numpy 2.3.1 which is incompatible.\n",
      "scipy 1.13.1 requires numpy<2.3,>=1.22.4, but you have numpy 2.3.1 which is incompatible.\n",
      "\n",
      "[notice] A new release of pip is available: 24.0 -> 25.1.1\n",
      "[notice] To update, run: python.exe -m pip install --upgrade pip\n"
     ]
    }
   ],
   "source": [
    "%pip install -U numpy"
   ]
  },
  {
   "cell_type": "code",
   "execution_count": 2,
   "id": "2a283161",
   "metadata": {},
   "outputs": [
    {
     "name": "stdout",
     "output_type": "stream",
     "text": [
      "Requirement already satisfied: gensim in c:\\users\\eli\\appdata\\local\\programs\\python\\python311\\lib\\site-packages (4.3.3)\n",
      "Collecting numpy<2.0,>=1.18.5 (from gensim)\n",
      "  Using cached numpy-1.26.4-cp311-cp311-win_amd64.whl.metadata (61 kB)\n",
      "Requirement already satisfied: scipy<1.14.0,>=1.7.0 in c:\\users\\eli\\appdata\\local\\programs\\python\\python311\\lib\\site-packages (from gensim) (1.13.1)\n",
      "Requirement already satisfied: smart-open>=1.8.1 in c:\\users\\eli\\appdata\\local\\programs\\python\\python311\\lib\\site-packages (from gensim) (7.1.0)\n",
      "Requirement already satisfied: wrapt in c:\\users\\eli\\appdata\\local\\programs\\python\\python311\\lib\\site-packages (from smart-open>=1.8.1->gensim) (1.17.2)\n",
      "Using cached numpy-1.26.4-cp311-cp311-win_amd64.whl (15.8 MB)\n",
      "Installing collected packages: numpy\n",
      "  Attempting uninstall: numpy\n",
      "    Found existing installation: numpy 2.3.1\n",
      "    Uninstalling numpy-2.3.1:\n",
      "      Successfully uninstalled numpy-2.3.1\n",
      "Successfully installed numpy-1.26.4\n",
      "Note: you may need to restart the kernel to use updated packages.\n"
     ]
    },
    {
     "name": "stderr",
     "output_type": "stream",
     "text": [
      "\n",
      "[notice] A new release of pip is available: 24.0 -> 25.1.1\n",
      "[notice] To update, run: python.exe -m pip install --upgrade pip\n"
     ]
    }
   ],
   "source": [
    "\n",
    "%pip install -U gensim"
   ]
  },
  {
   "cell_type": "code",
   "execution_count": 4,
   "id": "ba72760d",
   "metadata": {},
   "outputs": [],
   "source": [
    "import gensim.downloader as api"
   ]
  },
  {
   "cell_type": "code",
   "execution_count": null,
   "id": "aa927477",
   "metadata": {},
   "outputs": [
    {
     "name": "stdout",
     "output_type": "stream",
     "text": [
      "[===================================---------------] 71.4% 1186.7/1662.8MB downloaded"
     ]
    }
   ],
   "source": [
    "#cargar modelo \n",
    "model =api.load(\"word2vec-google-news-300\")"
   ]
  },
  {
   "cell_type": "code",
   "execution_count": null,
   "id": "cba1688c",
   "metadata": {},
   "outputs": [],
   "source": [
    "pip install sklearn"
   ]
  },
  {
   "cell_type": "code",
   "execution_count": null,
   "id": "80ca3646",
   "metadata": {},
   "outputs": [],
   "source": [
    "import pandas as pd\n",
    "import numpy as np\n",
    "import matplotlib.pyplot as plt"
   ]
  },
  {
   "cell_type": "code",
   "execution_count": null,
   "id": "f922fa3b",
   "metadata": {},
   "outputs": [],
   "source": [
    "model"
   ]
  },
  {
   "cell_type": "code",
   "execution_count": null,
   "id": "2bebf994",
   "metadata": {},
   "outputs": [],
   "source": [
    "vec = lambda word: model[word] "
   ]
  },
  {
   "cell_type": "code",
   "execution_count": null,
   "id": "99cfb792",
   "metadata": {},
   "outputs": [],
   "source": [
    "len(model[\"word\"])"
   ]
  },
  {
   "cell_type": "code",
   "execution_count": null,
   "id": "eb33a2cf",
   "metadata": {},
   "outputs": [],
   "source": [
    "x = \"teacher\"\n",
    "V_x = vec(x)\n",
    "print(V_x)"
   ]
  },
  {
   "cell_type": "code",
   "execution_count": null,
   "id": "48d2387b",
   "metadata": {},
   "outputs": [],
   "source": [
    "y =[\"coach\",\"tutor\",\"trainer\",\"educator\",\"professor\",\"mentor\",\"dog\",\"tree\",\"cat\",\"horse\",\"movie\"]"
   ]
  },
  {
   "cell_type": "code",
   "execution_count": null,
   "id": "34369f45",
   "metadata": {},
   "outputs": [],
   "source": [
    "vec_y = [vec(word) for word in y]\n",
    "vec_y"
   ]
  },
  {
   "cell_type": "code",
   "execution_count": null,
   "id": "ce5fce28",
   "metadata": {},
   "outputs": [],
   "source": [
    "from sklearn.metrics.pairwise import cosine_similarity"
   ]
  },
  {
   "cell_type": "code",
   "execution_count": null,
   "id": "b0220eb6",
   "metadata": {},
   "outputs": [],
   "source": [
    "sim = [\n",
    "    cosine_similarity(X=vec_word.reshape(1, -1),Y= V_x.reshape(1, -1))\n",
    "    for vec_word in vec_y\n",
    "]\n",
    "print(sim)"
   ]
  },
  {
   "cell_type": "code",
   "execution_count": null,
   "id": "dbdb9ae6",
   "metadata": {},
   "outputs": [],
   "source": [
    "sim = [cosine_similarity(vec_word, V_x) for vec_word in vec_y]"
   ]
  },
  {
   "cell_type": "code",
   "execution_count": null,
   "id": "6267750f",
   "metadata": {},
   "outputs": [],
   "source": [
    "z = zip(y, sim)\n",
    "print(sorted(z, key=lambda x: x[1], reverse=True))"
   ]
  },
  {
   "cell_type": "code",
   "execution_count": null,
   "id": "59d898fc",
   "metadata": {},
   "outputs": [],
   "source": [
    "x='car'\n",
    "model.most_similar(positive=[x], topn=10)"
   ]
  }
 ],
 "metadata": {
  "kernelspec": {
   "display_name": "Python 3",
   "language": "python",
   "name": "python3"
  },
  "language_info": {
   "codemirror_mode": {
    "name": "ipython",
    "version": 3
   },
   "file_extension": ".py",
   "mimetype": "text/x-python",
   "name": "python",
   "nbconvert_exporter": "python",
   "pygments_lexer": "ipython3",
   "version": "3.11.8"
  }
 },
 "nbformat": 4,
 "nbformat_minor": 5
}
